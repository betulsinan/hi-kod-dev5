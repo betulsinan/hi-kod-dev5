{
 "cells": [
  {
   "cell_type": "code",
   "execution_count": 4,
   "id": "fdbf8ad0-3418-4cd8-a312-2761d69b6e84",
   "metadata": {},
   "outputs": [],
   "source": [
    "ogrenciler = {\"Emir\": {\"matematik\":78, \"fizik\":96, \"kimya\":25}, \"Ferhan\":{\"matematik\":64, \"fizik\":88, \"kimya\":30}, \"Şerife\": {\"matematik\":95, \"fizik\":83, \"kimya\":67}}"
   ]
  },
  {
   "cell_type": "code",
   "execution_count": 20,
   "id": "c6fa20c5-f6c7-4fb7-afdf-81a91b20f99b",
   "metadata": {},
   "outputs": [
    {
     "name": "stdin",
     "output_type": "stream",
     "text": [
      "öğrencinin ismini girer misiniz: Şerife\n",
      "hangi dersin sınav sonucunu öğrenmek istiyorsunuz (matematik,fizik,kimya): matematik\n"
     ]
    },
    {
     "name": "stdout",
     "output_type": "stream",
     "text": [
      "Şerife adlı öğrencinin matematik notu: 95\n"
     ]
    }
   ],
   "source": [
    "isim = input(\"öğrencinin ismini girer misiniz:\")\n",
    "ders = input(\"hangi dersin sınav sonucunu öğrenmek istiyorsunuz (matematik,fizik,kimya):\")\n",
    "if isim in ogrenciler and ders in ogrenciler[isim]:\n",
    "    print(f\"{isim} adlı öğrencinin {ders} notu: {ogrenciler[isim][ders]}\" )\n",
    "else:\n",
    "    print(\"öğrenci veya ders bilgisi bulunamadı.\")"
   ]
  },
  {
   "cell_type": "code",
   "execution_count": 44,
   "id": "88d4b952-b6d1-4b06-8a3c-b8301b5989c1",
   "metadata": {},
   "outputs": [
    {
     "name": "stdin",
     "output_type": "stream",
     "text": [
      "notunu değiştirmek istediğiniz öğrencinin ismini girer misiniz: Emir\n",
      "hangi notunu değiştirmek istiyorsonuz(matematik,fizik,kimya): kimya\n",
      "yeni kimya notunu giriniz:  54\n"
     ]
    },
    {
     "name": "stdout",
     "output_type": "stream",
     "text": [
      "Emir adlı öğrencinin kimya notu 54 olarak güncellenmiştir.\n"
     ]
    }
   ],
   "source": [
    "isim = input(\"notunu değiştirmek istediğiniz öğrencinin ismini girer misiniz:\")\n",
    "ders = input(\"hangi notunu değiştirmek istiyorsonuz(matematik,fizik,kimya):\")\n",
    "yeni_not = int(input(f\"yeni {ders} notunu giriniz: \"))\n",
    "if isim in ogrenciler and ders in ogrenciler[isim]:\n",
    "    ogrenciler [isim][ders] = yeni_not \n",
    "    print(f\"{isim} adlı öğrencinin {ders} notu {yeni_not} olarak güncellenmiştir.\")\n",
    "else:\n",
    "    print(\"öğrenci veya ders bilgisi bulunamamıştır.\")"
   ]
  },
  {
   "cell_type": "code",
   "execution_count": 46,
   "id": "b47e6ab5-5f03-40d6-8d3c-50a8c52f33ce",
   "metadata": {},
   "outputs": [
    {
     "name": "stdin",
     "output_type": "stream",
     "text": [
      "yeni öğrencinin ismini giriniz: Betül\n",
      "matematik notunu giriniz: 98\n",
      "fizik notunu giriniz: 77\n",
      "kimya notunu giriniz: 54\n"
     ]
    }
   ],
   "source": [
    "isim = input(\"yeni öğrencinin ismini giriniz:\")\n",
    "mat_not =int(input(\"matematik notunu giriniz:\"))\n",
    "fiz_not =int(input(\"fizik notunu giriniz:\"))\n",
    "kim_not =int(input(\"kimya notunu giriniz:\"))"
   ]
  },
  {
   "cell_type": "code",
   "execution_count": 50,
   "id": "79cf9e0a-6f00-486f-9ed6-c1ac4770659d",
   "metadata": {},
   "outputs": [
    {
     "name": "stdout",
     "output_type": "stream",
     "text": [
      "Betül adlı öğrenci başarıyla eklenmiştir.\n"
     ]
    }
   ],
   "source": [
    "ogrenciler[isim]= {\"matematik\": mat_not, \"fizik\": fiz_not, \"kimya\": kim_not}\n",
    "print(f\"{isim} adlı öğrenci başarıyla eklenmiştir.\")"
   ]
  },
  {
   "cell_type": "code",
   "execution_count": 52,
   "id": "dd541137-9f59-4e7e-ab31-d551021c2f31",
   "metadata": {},
   "outputs": [
    {
     "data": {
      "text/plain": [
       "{'Emir': {'matematik': 78, 'fizik': 96, 'kimya': 54},\n",
       " 'Ferhan': {'matematik': 64, 'fizik': 88, 'kimya': 30},\n",
       " 'Şerife': {'matematik': 95, 'fizik': 83, 'kimya': 67},\n",
       " 'Betül': {'matematik': 98, 'fizik': 77, 'kimya': 54}}"
      ]
     },
     "execution_count": 52,
     "metadata": {},
     "output_type": "execute_result"
    }
   ],
   "source": [
    "ogrenciler"
   ]
  },
  {
   "cell_type": "code",
   "execution_count": 54,
   "id": "e56dd300-190c-4635-86cb-7dd21293ea61",
   "metadata": {},
   "outputs": [
    {
     "name": "stdout",
     "output_type": "stream",
     "text": [
      "tüm öğrencilerin notları:\n",
      "Emir: {'matematik': 78, 'fizik': 96, 'kimya': 54}\n",
      "Ferhan: {'matematik': 64, 'fizik': 88, 'kimya': 30}\n",
      "Şerife: {'matematik': 95, 'fizik': 83, 'kimya': 67}\n",
      "Betül: {'matematik': 98, 'fizik': 77, 'kimya': 54}\n"
     ]
    }
   ],
   "source": [
    "print(\"tüm öğrencilerin notları:\")\n",
    "for isim, dersler in ogrenciler.items():\n",
    "    print(f\"{isim}: {dersler}\")"
   ]
  },
  {
   "cell_type": "code",
   "execution_count": null,
   "id": "42360346-497f-4c15-a0e1-c27a030cd25c",
   "metadata": {},
   "outputs": [],
   "source": []
  }
 ],
 "metadata": {
  "kernelspec": {
   "display_name": "Python 3 (ipykernel)",
   "language": "python",
   "name": "python3"
  },
  "language_info": {
   "codemirror_mode": {
    "name": "ipython",
    "version": 3
   },
   "file_extension": ".py",
   "mimetype": "text/x-python",
   "name": "python",
   "nbconvert_exporter": "python",
   "pygments_lexer": "ipython3",
   "version": "3.12.4"
  }
 },
 "nbformat": 4,
 "nbformat_minor": 5
}
